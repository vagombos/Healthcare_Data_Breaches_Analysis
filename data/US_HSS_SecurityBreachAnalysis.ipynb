{
 "cells": [
  {
   "cell_type": "code",
   "execution_count": 1,
   "id": "e88ff630",
   "metadata": {},
   "outputs": [
    {
     "name": "stdout",
     "output_type": "stream",
     "text": [
      "1.4.4\n",
      "1.21.5\n"
     ]
    }
   ],
   "source": [
    "# Importing pandas and numpy for initial data import and cleaning\n",
    "import pandas as pd\n",
    "import numpy as np\n",
    "\n",
    "print(pd.__version__)\n",
    "print(np.__version__)"
   ]
  },
  {
   "cell_type": "code",
   "execution_count": 2,
   "id": "f788e3f3",
   "metadata": {
    "scrolled": false
   },
   "outputs": [
    {
     "data": {
      "text/html": [
       "<div>\n",
       "<style scoped>\n",
       "    .dataframe tbody tr th:only-of-type {\n",
       "        vertical-align: middle;\n",
       "    }\n",
       "\n",
       "    .dataframe tbody tr th {\n",
       "        vertical-align: top;\n",
       "    }\n",
       "\n",
       "    .dataframe thead th {\n",
       "        text-align: right;\n",
       "    }\n",
       "</style>\n",
       "<table border=\"1\" class=\"dataframe\">\n",
       "  <thead>\n",
       "    <tr style=\"text-align: right;\">\n",
       "      <th></th>\n",
       "      <th>name_of_covered_entity</th>\n",
       "      <th>state</th>\n",
       "      <th>covered_entity_type</th>\n",
       "      <th>individuals_affected</th>\n",
       "      <th>breach_submission_date</th>\n",
       "      <th>type_of_breach</th>\n",
       "      <th>location_of_breached_information</th>\n",
       "      <th>business_associate_present</th>\n",
       "      <th>web_description</th>\n",
       "    </tr>\n",
       "  </thead>\n",
       "  <tbody>\n",
       "    <tr>\n",
       "      <th>0</th>\n",
       "      <td>iTrust Wellness Group</td>\n",
       "      <td>SC</td>\n",
       "      <td>Healthcare Provider</td>\n",
       "      <td>981</td>\n",
       "      <td>8/10/2023</td>\n",
       "      <td>Hacking/IT Incident</td>\n",
       "      <td>Email</td>\n",
       "      <td>No</td>\n",
       "      <td>NaN</td>\n",
       "    </tr>\n",
       "    <tr>\n",
       "      <th>1</th>\n",
       "      <td>Madera County</td>\n",
       "      <td>CA</td>\n",
       "      <td>Health Plan</td>\n",
       "      <td>1146</td>\n",
       "      <td>8/9/2023</td>\n",
       "      <td>Unauthorized Access/Disclosure</td>\n",
       "      <td>Email</td>\n",
       "      <td>No</td>\n",
       "      <td>NaN</td>\n",
       "    </tr>\n",
       "    <tr>\n",
       "      <th>2</th>\n",
       "      <td>PCC Pediatric EHR Solutions</td>\n",
       "      <td>VT</td>\n",
       "      <td>Business Associate</td>\n",
       "      <td>520</td>\n",
       "      <td>8/9/2023</td>\n",
       "      <td>Unauthorized Access/Disclosure</td>\n",
       "      <td>Email</td>\n",
       "      <td>Yes</td>\n",
       "      <td>NaN</td>\n",
       "    </tr>\n",
       "    <tr>\n",
       "      <th>3</th>\n",
       "      <td>Premera Blue Cross</td>\n",
       "      <td>WA</td>\n",
       "      <td>Health Plan</td>\n",
       "      <td>33212</td>\n",
       "      <td>8/8/2023</td>\n",
       "      <td>Hacking/IT Incident</td>\n",
       "      <td>Network Server</td>\n",
       "      <td>Yes</td>\n",
       "      <td>NaN</td>\n",
       "    </tr>\n",
       "    <tr>\n",
       "      <th>4</th>\n",
       "      <td>Redwood Coast Regional Center</td>\n",
       "      <td>CA</td>\n",
       "      <td>Healthcare Provider</td>\n",
       "      <td>1345</td>\n",
       "      <td>8/7/2023</td>\n",
       "      <td>Hacking/IT Incident</td>\n",
       "      <td>Email</td>\n",
       "      <td>No</td>\n",
       "      <td>NaN</td>\n",
       "    </tr>\n",
       "  </tbody>\n",
       "</table>\n",
       "</div>"
      ],
      "text/plain": [
       "          name_of_covered_entity state  covered_entity_type  \\\n",
       "0          iTrust Wellness Group    SC  Healthcare Provider   \n",
       "1                  Madera County    CA          Health Plan   \n",
       "2    PCC Pediatric EHR Solutions    VT   Business Associate   \n",
       "3             Premera Blue Cross    WA          Health Plan   \n",
       "4  Redwood Coast Regional Center    CA  Healthcare Provider   \n",
       "\n",
       "   individuals_affected breach_submission_date  \\\n",
       "0                   981              8/10/2023   \n",
       "1                  1146               8/9/2023   \n",
       "2                   520               8/9/2023   \n",
       "3                 33212               8/8/2023   \n",
       "4                  1345               8/7/2023   \n",
       "\n",
       "                   type_of_breach location_of_breached_information  \\\n",
       "0             Hacking/IT Incident                            Email   \n",
       "1  Unauthorized Access/Disclosure                            Email   \n",
       "2  Unauthorized Access/Disclosure                            Email   \n",
       "3             Hacking/IT Incident                   Network Server   \n",
       "4             Hacking/IT Incident                            Email   \n",
       "\n",
       "  business_associate_present  web_description  \n",
       "0                         No              NaN  \n",
       "1                         No              NaN  \n",
       "2                        Yes              NaN  \n",
       "3                        Yes              NaN  \n",
       "4                         No              NaN  "
      ]
     },
     "execution_count": 2,
     "metadata": {},
     "output_type": "execute_result"
    }
   ],
   "source": [
    "# Initial import and read of the dataset from locally saved folder\n",
    "data = pd.read_csv(\"C:\\\\Users\\\\Victor\\\\Documents\\\\Data Science Projects\\\\Cybersecurity\\\\breach_report.csv\")\n",
    "# Preview first lines of loaded data\n",
    "data.head()"
   ]
  },
  {
   "cell_type": "code",
   "execution_count": 3,
   "id": "05600247",
   "metadata": {},
   "outputs": [],
   "source": [
    "data.head().to_html('data_head.html', index=False)"
   ]
  },
  {
   "cell_type": "code",
   "execution_count": 4,
   "id": "a87e3132",
   "metadata": {},
   "outputs": [
    {
     "name": "stdout",
     "output_type": "stream",
     "text": [
      "Number of rows in the cleaned-up DataFrame: 900\n"
     ]
    }
   ],
   "source": [
    "data = data.drop(\"web_description\", axis=1)\n",
    "\n",
    "# Remove rows with blank values\n",
    "data = data.dropna()\n",
    "\n",
    "# Get the number of rows in the cleaned-up DataFrame\n",
    "row_count = data.shape[0]\n",
    "\n",
    "# Print the number of rows\n",
    "print(\"Number of rows in the cleaned-up DataFrame:\", row_count)"
   ]
  },
  {
   "cell_type": "code",
   "execution_count": 5,
   "id": "3f8f8b27",
   "metadata": {},
   "outputs": [
    {
     "name": "stdout",
     "output_type": "stream",
     "text": [
      "Summary table for 'state' column:\n",
      "    Count  % of Total\n",
      "NY     74    8.222222\n",
      "TX     71    7.888889\n",
      "CA     68    7.555556\n",
      "PA     50    5.555556\n",
      "IL     44    4.888889\n",
      "MA     42    4.666667\n",
      "FL     40    4.444444\n",
      "OH     37    4.111111\n",
      "NJ     33    3.666667\n",
      "IN     32    3.555556\n",
      "MI     32    3.555556\n",
      "NC     26    2.888889\n",
      "GA     24    2.666667\n",
      "AZ     20    2.222222\n",
      "TN     19    2.111111\n",
      "VA     18    2.000000\n",
      "KS     18    2.000000\n",
      "WA     18    2.000000\n",
      "MO     16    1.777778\n",
      "CT     16    1.777778\n",
      "MD     15    1.666667\n",
      "MN     15    1.666667\n",
      "WI     15    1.666667\n",
      "UT     12    1.333333\n",
      "OR     11    1.222222\n",
      "NH     11    1.222222\n",
      "IA     10    1.111111\n",
      "KY      9    1.000000\n",
      "NE      9    1.000000\n",
      "OK      9    1.000000\n",
      "CO      8    0.888889\n",
      "WV      8    0.888889\n",
      "AL      7    0.777778\n",
      "SC      7    0.777778\n",
      "RI      7    0.777778\n",
      "AR      6    0.666667\n",
      "DE      5    0.555556\n",
      "NM      5    0.555556\n",
      "NV      3    0.333333\n",
      "SD      3    0.333333\n",
      "HI      3    0.333333\n",
      "ME      3    0.333333\n",
      "LA      3    0.333333\n",
      "ID      3    0.333333\n",
      "MT      3    0.333333\n",
      "AK      3    0.333333\n",
      "ND      2    0.222222\n",
      "WY      2    0.222222\n",
      "VT      2    0.222222\n",
      "MS      2    0.222222\n",
      "DC      1    0.111111\n"
     ]
    }
   ],
   "source": [
    "# Summary table for \"state\" column\n",
    "state_counts = data['state'].value_counts()\n",
    "state_percentages = data['state'].value_counts(normalize=True) * 100\n",
    "state_summary = pd.DataFrame({'Count': state_counts, '% of Total': state_percentages})\n",
    "state_summary = state_summary.sort_values(by='Count', ascending=False)\n",
    "print(\"Summary table for 'state' column:\")\n",
    "print(state_summary)"
   ]
  },
  {
   "cell_type": "code",
   "execution_count": 6,
   "id": "d7902c15",
   "metadata": {},
   "outputs": [
    {
     "name": "stdout",
     "output_type": "stream",
     "text": [
      "Top 10 States by Breaches per Million People:\n",
      "    Count  % of Total  Breaches per Million People\n",
      "NH     11    1.222222                     7.985313\n",
      "RI      7    0.777778                     6.378835\n",
      "KS     18    2.000000                     6.178531\n",
      "MA     42    4.666667                     6.015491\n",
      "DE      5    0.555556                     4.991579\n",
      "IN     32    3.555556                     4.683130\n",
      "NE      9    1.000000                     4.588316\n",
      "WV      8    0.888889                     4.499260\n",
      "CT     16    1.777778                     4.437118\n",
      "AK      3    0.333333                     4.100910\n"
     ]
    }
   ],
   "source": [
    "# Obtain the population data for each state (from StatsAmerica.org)\n",
    "population = {\n",
    "    'CA': 39029342,'TX': 30029572,'FL': 22244823,'NY': 19677151,'PA': 12972008,'IL': 12812032,'OH': 11756058,\n",
    "    'GA': 10912876,'NC': 10698973,'MI': 10034113,'NJ': 9288994,'VA': 8683619,'WA': 7785786,'AZ': 7359197,\n",
    "    'TN': 7051339,'MA': 6981974,'IN': 6833037,'MO': 6177957,'MD': 6177224,'WI': 5893718,'CO': 5773714,\n",
    "    'MN': 5706494,'SC': 5118425,'AL': 5024279,'LA': 4657757,'KY': 4505836,'OR': 4237256,'OK': 3959353,\n",
    "    'CT': 3605944,'UT': 3271616,'IA': 3179849,'NV': 3179849,'AK': 731545,'MS': 2965997,'KS': 2913314,\n",
    "    'NM': 2117522,'NE': 1961504,'ID': 1893147,'WV': 1778070,'HI': 1461933,'NH': 1377529,'ME': 1377529,\n",
    "    'MT': 1086767,'RI': 1097379,'DE': 1001687,'SD': 886667,'ND': 770026,'DC': 705749,'VT': 643503\n",
    "}\n",
    "\n",
    "# Calculate the \"Breaches per Million People\" metric\n",
    "state_summary['Breaches per Million People'] = (state_summary['Count'] / state_summary.index.map(population)) * 1_000_000\n",
    "\n",
    "# Sort the DataFrame by the calculated metric\n",
    "state_summary = state_summary.sort_values(by='Breaches per Million People', ascending=False)\n",
    "\n",
    "# Display the top 10 states by the metric\n",
    "top_10_states = state_summary.head(10)\n",
    "print(\"Top 10 States by Breaches per Million People:\")\n",
    "print(top_10_states)"
   ]
  },
  {
   "cell_type": "code",
   "execution_count": 7,
   "id": "7e9ae258",
   "metadata": {},
   "outputs": [
    {
     "name": "stdout",
     "output_type": "stream",
     "text": [
      "\n",
      "Summary table for 'covered_entity_type' column:\n",
      "                           Count  % of Total\n",
      "Healthcare Provider          569   63.222222\n",
      "Business Associate           204   22.666667\n",
      "Health Plan                  126   14.000000\n",
      "Healthcare Clearing House      1    0.111111\n"
     ]
    }
   ],
   "source": [
    "# Summary table for \"covered_entity_type\" column\n",
    "entity_type_counts = data['covered_entity_type'].value_counts()\n",
    "entity_type_percentages = data['covered_entity_type'].value_counts(normalize=True) * 100\n",
    "entity_type_summary = pd.DataFrame({'Count': entity_type_counts, '% of Total': entity_type_percentages})\n",
    "entity_type_summary = entity_type_summary.sort_values(by='Count', ascending=False)\n",
    "print(\"\\nSummary table for 'covered_entity_type' column:\")\n",
    "print(entity_type_summary)"
   ]
  },
  {
   "cell_type": "code",
   "execution_count": 8,
   "id": "acbadc3a",
   "metadata": {},
   "outputs": [
    {
     "name": "stdout",
     "output_type": "stream",
     "text": [
      "Correlation Coefficient: -0.02\n",
      "Degrees of Freedom: 49\n",
      "Statistical Significance: 0.05\n"
     ]
    }
   ],
   "source": [
    "# Aggregate the sum of individuals affected by state\n",
    "individuals_affected_by_state = data.groupby('state')['individuals_affected'].sum()\n",
    "\n",
    "# Add the new column to the state_summary DataFrame\n",
    "state_summary['Individuals Affected'] = individuals_affected_by_state\n",
    "\n",
    "# Calculate the correlation coefficient\n",
    "correlation_coefficient = state_summary['Breaches per Million People'].corr(state_summary['Individuals Affected'])\n",
    "\n",
    "# Calculate the degrees of freedom\n",
    "degrees_of_freedom = len(state_summary) - 2\n",
    "\n",
    "# Calculate the statistical significance\n",
    "statistical_significance = 0.05\n",
    "\n",
    "# Display the results\n",
    "print(f\"Correlation Coefficient: {correlation_coefficient:.2f}\")\n",
    "print(f\"Degrees of Freedom: {degrees_of_freedom}\")\n",
    "print(f\"Statistical Significance: {statistical_significance}\")"
   ]
  },
  {
   "cell_type": "code",
   "execution_count": 9,
   "id": "90f20d66",
   "metadata": {},
   "outputs": [
    {
     "name": "stdout",
     "output_type": "stream",
     "text": [
      "\n",
      "Summary statistics for 'individuals_affected' column:\n",
      "count    9.000000e+02\n",
      "mean     1.198209e+05\n",
      "std      6.151386e+05\n",
      "min      5.000000e+02\n",
      "25%      1.330500e+03\n",
      "50%      5.370000e+03\n",
      "75%      3.366250e+04\n",
      "max      1.127000e+07\n",
      "Name: individuals_affected, dtype: float64\n"
     ]
    }
   ],
   "source": [
    "# Summary statistics for \"individuals_affected\" column\n",
    "individuals_stats = data['individuals_affected'].describe()\n",
    "print(\"\\nSummary statistics for 'individuals_affected' column:\")\n",
    "print(individuals_stats)"
   ]
  },
  {
   "cell_type": "code",
   "execution_count": 10,
   "id": "a719c58f",
   "metadata": {},
   "outputs": [
    {
     "name": "stdout",
     "output_type": "stream",
     "text": [
      "\n",
      "Summary table for 'type_of_breach' column:\n",
      "                                Count  % of Total\n",
      "Hacking/IT Incident               728   80.888889\n",
      "Unauthorized Access/Disclosure    144   16.000000\n",
      "Theft                              17    1.888889\n",
      "Loss                                6    0.666667\n",
      "Improper Disposal                   5    0.555556\n"
     ]
    }
   ],
   "source": [
    "# Summary table for \"type_of_breach\" column\n",
    "breach_type_counts = data['type_of_breach'].value_counts()\n",
    "breach_type_percentages = data['type_of_breach'].value_counts(normalize=True) * 100\n",
    "breach_type_summary = pd.DataFrame({'Count': breach_type_counts, '% of Total': breach_type_percentages})\n",
    "breach_type_summary = breach_type_summary.sort_values(by='Count', ascending=False)\n",
    "print(\"\\nSummary table for 'type_of_breach' column:\")\n",
    "print(breach_type_summary)"
   ]
  },
  {
   "cell_type": "code",
   "execution_count": 11,
   "id": "2a39c2af",
   "metadata": {},
   "outputs": [
    {
     "name": "stdout",
     "output_type": "stream",
     "text": [
      "\n",
      "Summary table for 'location_of_breached_information' column:\n",
      "                                                    Count  % of Total\n",
      "Network Server                                        575   63.888889\n",
      "Email                                                 190   21.111111\n",
      "Paper/Films                                            43    4.777778\n",
      "Electronic Medical Record                              31    3.444444\n",
      "Other                                                  10    1.111111\n",
      "Laptop                                                  9    1.000000\n",
      "Other Portable Electronic Device                        9    1.000000\n",
      "Electronic Medical Record, Network Server               7    0.777778\n",
      "Network Server, Other                                   6    0.666667\n",
      "Desktop Computer                                        4    0.444444\n",
      "Electronic Medical Record, Other                        2    0.222222\n",
      "Desktop Computer, Network Server                        2    0.222222\n",
      "Desktop Computer, Electronic Medical Record             1    0.111111\n",
      "Desktop Computer, Electronic Medical Record, Em...      1    0.111111\n",
      "Other, Paper/Films                                      1    0.111111\n",
      "Electronic Medical Record, Paper/Films                  1    0.111111\n",
      "Electronic Medical Record, Laptop                       1    0.111111\n",
      "Email, Laptop                                           1    0.111111\n",
      "Desktop Computer, Laptop, Network Server                1    0.111111\n",
      "Email, Network Server                                   1    0.111111\n",
      "Desktop Computer, Electronic Medical Record, La...      1    0.111111\n",
      "Electronic Medical Record, Email, Paper/Films           1    0.111111\n",
      "Laptop, Other, Other Portable Electronic Device         1    0.111111\n",
      "Network Server, Paper/Films                             1    0.111111\n"
     ]
    }
   ],
   "source": [
    "# Summary table for \"location_of_breached_information\" column\n",
    "location_counts = data['location_of_breached_information'].value_counts()\n",
    "location_percentages = data['location_of_breached_information'].value_counts(normalize=True) * 100\n",
    "location_summary = pd.DataFrame({'Count': location_counts, '% of Total': location_percentages})\n",
    "location_summary = location_summary.sort_values(by='Count', ascending=False)\n",
    "print(\"\\nSummary table for 'location_of_breached_information' column:\")\n",
    "print(location_summary)"
   ]
  },
  {
   "cell_type": "code",
   "execution_count": 12,
   "id": "2502dcae",
   "metadata": {},
   "outputs": [
    {
     "name": "stdout",
     "output_type": "stream",
     "text": [
      "\n",
      "Summary table for 'business_associate_present' column:\n",
      "     Count  % of Total\n",
      "No     606   67.333333\n",
      "Yes    294   32.666667\n"
     ]
    }
   ],
   "source": [
    "# Summary table for \"business_associate_present\" column\n",
    "business_assoc_counts = data['business_associate_present'].value_counts()\n",
    "business_assoc_percentages = data['business_associate_present'].value_counts(normalize=True) * 100\n",
    "business_assoc_summary = pd.DataFrame({'Count': business_assoc_counts, '% of Total': business_assoc_percentages})\n",
    "business_assoc_summary = business_assoc_summary.sort_values(by='Count', ascending=False)\n",
    "print(\"\\nSummary table for 'business_associate_present' column:\")\n",
    "print(business_assoc_summary)"
   ]
  },
  {
   "cell_type": "code",
   "execution_count": 13,
   "id": "923ca2dc",
   "metadata": {},
   "outputs": [
    {
     "name": "stdout",
     "output_type": "stream",
     "text": [
      "Updated DataFrame with new columns:\n",
      "          name_of_covered_entity state  covered_entity_type  \\\n",
      "0          iTrust Wellness Group    SC  Healthcare Provider   \n",
      "1                  Madera County    CA          Health Plan   \n",
      "2    PCC Pediatric EHR Solutions    VT   Business Associate   \n",
      "3             Premera Blue Cross    WA          Health Plan   \n",
      "4  Redwood Coast Regional Center    CA  Healthcare Provider   \n",
      "\n",
      "   individuals_affected breach_submission_date  \\\n",
      "0                   981              8/10/2023   \n",
      "1                  1146               8/9/2023   \n",
      "2                   520               8/9/2023   \n",
      "3                 33212               8/8/2023   \n",
      "4                  1345               8/7/2023   \n",
      "\n",
      "                   type_of_breach location_of_breached_information  \\\n",
      "0             Hacking/IT Incident                            Email   \n",
      "1  Unauthorized Access/Disclosure                            Email   \n",
      "2  Unauthorized Access/Disclosure                            Email   \n",
      "3             Hacking/IT Incident                   Network Server   \n",
      "4             Hacking/IT Incident                            Email   \n",
      "\n",
      "  business_associate_present  Email  Network Server  Other  Paper/Films  \\\n",
      "0                         No      1               0      0            0   \n",
      "1                         No      1               0      0            0   \n",
      "2                        Yes      1               0      0            0   \n",
      "3                        Yes      0               1      0            0   \n",
      "4                         No      1               0      0            0   \n",
      "\n",
      "   Desktop Computer  Electronic Medical Record  Laptop  \\\n",
      "0                 0                          0       0   \n",
      "1                 0                          0       0   \n",
      "2                 0                          0       0   \n",
      "3                 0                          0       0   \n",
      "4                 0                          0       0   \n",
      "\n",
      "   Other Portable Electronic Device  \n",
      "0                                 0  \n",
      "1                                 0  \n",
      "2                                 0  \n",
      "3                                 0  \n",
      "4                                 0  \n"
     ]
    }
   ],
   "source": [
    "# Split the \"location_of_breached_information\" column into separate categories\n",
    "location_categories = data['location_of_breached_information'].str.get_dummies(sep=',')\n",
    "\n",
    "# Create new columns for each category\n",
    "new_columns = ['Email', 'Network Server', 'Other', 'Paper/Films', 'Desktop Computer', 'Electronic Medical Record', 'Laptop', 'Other Portable Electronic Device']\n",
    "location_categories = location_categories[new_columns]\n",
    "\n",
    "# Add the new columns to the DataFrame\n",
    "data = pd.concat([data, location_categories], axis=1)\n",
    "\n",
    "# Print the updated DataFrame\n",
    "print(\"Updated DataFrame with new columns:\")\n",
    "print(data.head())"
   ]
  },
  {
   "cell_type": "code",
   "execution_count": 14,
   "id": "98459d5b",
   "metadata": {},
   "outputs": [
    {
     "name": "stdout",
     "output_type": "stream",
     "text": [
      "Full rows from the DataFrame:\n",
      "          name_of_covered_entity state  covered_entity_type  \\\n",
      "574  Narragansett Bay Commission    RI  Healthcare Provider   \n",
      "\n",
      "     individuals_affected breach_submission_date       type_of_breach  \\\n",
      "574                  2153               9/1/2022  Hacking/IT Incident   \n",
      "\n",
      "    location_of_breached_information business_associate_present  Email  \\\n",
      "574                   Network Server                         No      0   \n",
      "\n",
      "     Network Server  Other  Paper/Films  Desktop Computer  \\\n",
      "574               1      0            0                 0   \n",
      "\n",
      "     Electronic Medical Record  Laptop  Other Portable Electronic Device  \n",
      "574                          0       0                                 0  \n"
     ]
    }
   ],
   "source": [
    "# Doing a spot check to ensure entries match with source data\n",
    "\n",
    "# Filter the DataFrame based on the specified conditions\n",
    "filtered_data = data[(data['name_of_covered_entity'] == \"Narragansett Bay Commission\") &\n",
    "                     (data['individuals_affected'] == 2153) &\n",
    "                     (data['type_of_breach'] == \"Hacking/IT Incident\")]\n",
    "\n",
    "# Print the full rows from the filtered DataFrame\n",
    "print(\"Full rows from the DataFrame:\")\n",
    "print(filtered_data)"
   ]
  },
  {
   "cell_type": "code",
   "execution_count": 15,
   "id": "953eacb1",
   "metadata": {},
   "outputs": [
    {
     "name": "stdout",
     "output_type": "stream",
     "text": [
      "Summary table for 'Email' column:\n",
      "   Email  Count\n",
      "0      0    708\n",
      "1      1    192\n",
      "\n",
      "Summary table for 'Network Server' column:\n",
      "   Network Server  Count\n",
      "0               1    582\n",
      "1               0    318\n",
      "\n",
      "Summary table for 'Other' column:\n",
      "   Other  Count\n",
      "0      0    889\n",
      "1      1     11\n",
      "\n",
      "Summary table for 'Paper/Films' column:\n",
      "   Paper/Films  Count\n",
      "0            0    857\n",
      "1            1     43\n",
      "\n",
      "Summary table for 'Desktop Computer' column:\n",
      "   Desktop Computer  Count\n",
      "0                 0    890\n",
      "1                 1     10\n",
      "\n",
      "Summary table for 'Electronic Medical Record' column:\n",
      "   Electronic Medical Record  Count\n",
      "0                          0    857\n",
      "1                          1     43\n",
      "\n",
      "Summary table for 'Laptop' column:\n",
      "   Laptop  Count\n",
      "0       0    890\n",
      "1       1     10\n",
      "\n",
      "Summary table for 'Other Portable Electronic Device' column:\n",
      "   Other Portable Electronic Device  Count\n",
      "0                                 0    891\n",
      "1                                 1      9\n",
      "\n"
     ]
    }
   ],
   "source": [
    "# Checking out frequencies for \"Yes\" vs. \"No\" on the different locations of breached information\n",
    "\n",
    "# Create separate summary tables for each column\n",
    "summary_tables = []\n",
    "columns = ['Email', 'Network Server', 'Other', 'Paper/Films', 'Desktop Computer', 'Electronic Medical Record', 'Laptop', 'Other Portable Electronic Device']\n",
    "\n",
    "for column in columns:\n",
    "    summary_table = data[column].value_counts().reset_index()\n",
    "    summary_table.columns = [column, 'Count']\n",
    "    summary_tables.append(summary_table)\n",
    "\n",
    "# Print the summary tables\n",
    "for i, column in enumerate(columns):\n",
    "    print(f\"Summary table for '{column}' column:\")\n",
    "    print(summary_tables[i])\n",
    "    print()"
   ]
  },
  {
   "cell_type": "code",
   "execution_count": 16,
   "id": "34480b19",
   "metadata": {},
   "outputs": [
    {
     "name": "stdout",
     "output_type": "stream",
     "text": [
      "Summary table:\n",
      "                          Locations Total Individuals Affected\n",
      "1                    Network Server                   89409978\n",
      "2                             Other                   11556795\n",
      "0                             Email                    5532286\n",
      "5         Electronic Medical Record                     804171\n",
      "3                       Paper/Films                     308906\n",
      "4                  Desktop Computer                     113371\n",
      "6                            Laptop                      93959\n",
      "7  Other Portable Electronic Device                      19375\n"
     ]
    },
    {
     "name": "stderr",
     "output_type": "stream",
     "text": [
      "C:\\Users\\Victor\\AppData\\Local\\Temp\\ipykernel_7416\\2058541052.py:13: FutureWarning: The frame.append method is deprecated and will be removed from pandas in a future version. Use pandas.concat instead.\n",
      "  summary_table = summary_table.append(temp_df, ignore_index=True)\n"
     ]
    }
   ],
   "source": [
    "# Create a summary table for the specified columns\n",
    "summary_table = pd.DataFrame(columns=['Locations', 'Total Individuals Affected'])\n",
    "\n",
    "# Iterate over the specified columns\n",
    "for column in ['Email', 'Network Server', 'Other', 'Paper/Films', 'Desktop Computer', 'Electronic Medical Record', 'Laptop', 'Other Portable Electronic Device']:\n",
    "    # Calculate the sum of individuals affected for each category\n",
    "    individuals_affected = data[data[column] == 1]['individuals_affected'].sum()\n",
    "    \n",
    "    # Create a temporary DataFrame for the category\n",
    "    temp_df = pd.DataFrame({'Locations': [column], 'Total Individuals Affected': [individuals_affected]})\n",
    "    \n",
    "    # Append the temporary DataFrame to the summary table\n",
    "    summary_table = summary_table.append(temp_df, ignore_index=True)\n",
    "    \n",
    "# Sort the summary table by the \"Total Individuals Affected\" column in descending order\n",
    "summary_table = summary_table.sort_values(by='Total Individuals Affected', ascending=False)\n",
    "\n",
    "# Print the summary table\n",
    "print(\"Summary table:\")\n",
    "print(summary_table)"
   ]
  },
  {
   "cell_type": "code",
   "execution_count": 42,
   "id": "2a0c2245",
   "metadata": {},
   "outputs": [
    {
     "data": {
      "image/png": "[encoded data removed]",
      "text/plain": [
       "<Figure size 640x480 with 1 Axes>"
      ]
     },
     "metadata": {},
     "output_type": "display_data"
    }
   ],
   "source": [
    "import matplotlib.pyplot as plt\n",
    "from matplotlib.ticker import FuncFormatter\n",
    "\n",
    "# Sort the summary table by the \"Total Individuals Affected\" column in descending order\n",
    "summary_table = summary_table.sort_values(by='Total Individuals Affected', ascending=False)\n",
    "\n",
    "# Create a bar graph of the summary table\n",
    "ax = summary_table.plot(x='Locations', y='Total Individuals Affected', kind='bar')\n",
    "\n",
    "# Set the title and axis labels\n",
    "plt.title('Total Individuals Affected by Location')\n",
    "plt.xlabel('Locations')\n",
    "plt.ylabel('Total Individuals Affected (in millions)')\n",
    "\n",
    "# Define the function to format the y-axis labels in millions\n",
    "def millions_formatter(x, pos):\n",
    "    return '{:.1f}M'.format(x/1000000)\n",
    "\n",
    "# Apply the millions_formatter function to the y-axis labels\n",
    "ax.yaxis.set_major_formatter(FuncFormatter(millions_formatter))\n",
    "\n",
    "# Show the plot\n",
    "plt.show()"
   ]
  },
  {
   "cell_type": "code",
   "execution_count": 18,
   "id": "0b48edb8",
   "metadata": {},
   "outputs": [
    {
     "name": "stdout",
     "output_type": "stream",
     "text": [
      "Email                               158.0\n",
      "Network Server                      540.0\n",
      "Other                                 5.0\n",
      "Paper/Films                           0.0\n",
      "Desktop Computer                      6.0\n",
      "Electronic Medical Record            16.0\n",
      "Laptop                                3.0\n",
      "Other Portable Electronic Device      0.0\n",
      "Name: 1, dtype: float64\n"
     ]
    }
   ],
   "source": [
    "import matplotlib.pyplot as plt\n",
    "\n",
    "# Filter the data for records where Type of Threat is \"Hacking/IT Incident\"\n",
    "filtered_data = data[data['type_of_breach'] == 'Hacking/IT Incident']\n",
    "\n",
    "# Count the occurrences of each category in the filtered data\n",
    "category_counts = filtered_data[['Email', 'Network Server', 'Other', 'Paper/Films', 'Desktop Computer', 'Electronic Medical Record', 'Laptop', 'Other Portable Electronic Device']].apply(pd.Series.value_counts).loc[1]\n",
    "\n",
    "category_counts = category_counts.fillna(0)\n",
    "print(category_counts)"
   ]
  },
  {
   "cell_type": "code",
   "execution_count": 19,
   "id": "a61a0c25",
   "metadata": {},
   "outputs": [
    {
     "data": {
      "image/png": "[encoded data removed]",
      "text/plain": [
       "<Figure size 640x480 with 1 Axes>"
      ]
     },
     "metadata": {},
     "output_type": "display_data"
    }
   ],
   "source": [
    "# Sort the category counts in descending order\n",
    "category_counts_sorted = category_counts.sort_values(ascending=False)\n",
    "\n",
    "# Create a pie chart of the sorted category counts\n",
    "plt.pie(category_counts_sorted, labels=None, startangle=90, wedgeprops={'edgecolor': 'white'})\n",
    "\n",
    "# Add a circle at the center to create a donut chart\n",
    "centre_circle = plt.Circle((0,0),0.70,fc='white')\n",
    "fig = plt.gcf()\n",
    "fig.gca().add_artist(centre_circle)\n",
    "\n",
    "# Create the legend with sorted category name, count, and percentage\n",
    "legend_labels = ['{}: {}, {:.1%}'.format(label, int(count), count/sum(category_counts_sorted)) for label, count in zip(category_counts_sorted.index, category_counts_sorted)]\n",
    "plt.legend(legend_labels, bbox_to_anchor=(1.25, 0.5), loc='center left')\n",
    "\n",
    "# Set the title\n",
    "plt.title('Hacking/IT Incidents by Breach Location')\n",
    "\n",
    "# Show the chart\n",
    "plt.show()"
   ]
  },
  {
   "cell_type": "code",
   "execution_count": 20,
   "id": "c7fb878f",
   "metadata": {},
   "outputs": [
    {
     "name": "stdout",
     "output_type": "stream",
     "text": [
      "Chi-Square Statistic: 2754.307692307693\n",
      "p-value: 0.0\n"
     ]
    }
   ],
   "source": [
    "import scipy.stats as stats\n",
    "\n",
    "# Filter the data for records where Type of Threat is \"Hacking/IT Incident\"\n",
    "filtered_data = data[data['type_of_breach'] == 'Hacking/IT Incident']\n",
    "\n",
    "# Count the occurrences of each category in the filtered data\n",
    "category_counts = filtered_data[['Email', 'Network Server', 'Other', 'Paper/Films', 'Desktop Computer', 'Electronic Medical Record', 'Laptop', 'Other Portable Electronic Device']].apply(pd.Series.value_counts).loc[1]\n",
    "\n",
    "# Replace NaN values with zeros\n",
    "category_counts = category_counts.fillna(0)\n",
    "\n",
    "# Define the expected frequencies assuming an equal distribution\n",
    "expected_freq = (sum(category_counts) / len(category_counts))\n",
    "\n",
    "# Perform the Chi-Square Goodness of Fit test\n",
    "chi2, p_value = stats.chisquare(category_counts, f_exp=expected_freq)\n",
    "\n",
    "# Print the test statistic and p-value\n",
    "print(\"Chi-Square Statistic:\", chi2)\n",
    "print(\"p-value:\", p_value)"
   ]
  }
 ],
 "metadata": {
  "kernelspec": {
   "display_name": "Python 3 (ipykernel)",
   "language": "python",
   "name": "python3"
  },
  "language_info": {
   "codemirror_mode": {
    "name": "ipython",
    "version": 3
   },
   "file_extension": ".py",
   "mimetype": "text/x-python",
   "name": "python",
   "nbconvert_exporter": "python",
   "pygments_lexer": "ipython3",
   "version": "3.9.13"
  }
 },
 "nbformat": 4,
 "nbformat_minor": 5
}
